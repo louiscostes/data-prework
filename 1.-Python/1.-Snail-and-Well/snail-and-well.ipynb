{
 "cells": [
  {
   "cell_type": "markdown",
   "metadata": {},
   "source": [
    "<img src=\"https://bit.ly/2VnXWr2\" width=\"100\" align=\"left\">"
   ]
  },
  {
   "cell_type": "markdown",
   "metadata": {},
   "source": [
    "# The Snail and the Well\n",
    "\n",
    "A snail falls at the bottom of a 125 cm well. Each day the snail rises 30 cm. But at night, while sleeping, slides 20 cm because the walls are wet. How many days does it take for the snail to escape the well?\n",
    "\n",
    "**Hint**: The snail gets out of the well when it surpasses the 125cm of height.\n",
    "\n",
    "## Tools\n",
    "\n",
    "1. Loop: **while**\n",
    "2. Conditional statements: **if-else**\n",
    "3. Function: **print()**\n",
    "\n",
    "## Tasks\n",
    "\n",
    "#### 1. Assign the challenge data to variables with representative names: `well_height`, `daily_distance`, `nightly_distance` and `snail_position`."
   ]
  },
  {
   "cell_type": "code",
   "execution_count": 1,
   "metadata": {},
   "outputs": [],
   "source": [
    "well_height = 125\n",
    "daily_distance = 30\n",
    "nightly_distance = 20\n",
    "snail_position = 0 "
   ]
  },
  {
   "cell_type": "markdown",
   "metadata": {},
   "source": [
    "#### 2. Create a variable `days` to keep count of the days that pass until the snail escapes the well. "
   ]
  },
  {
   "cell_type": "code",
   "execution_count": 2,
   "metadata": {},
   "outputs": [],
   "source": [
    "days = 0"
   ]
  },
  {
   "cell_type": "markdown",
   "metadata": {},
   "source": [
    "#### 3. Find the solution to the challenge using the variables defined above. "
   ]
  },
  {
   "cell_type": "code",
   "execution_count": 3,
   "metadata": {},
   "outputs": [],
   "source": [
    "while snail_position < well_height:\n",
    "    snail_position += daily_distance\n",
    "    snail_position += nightly_distance\n",
    "    days += 1 \n",
    "    "
   ]
  },
  {
   "cell_type": "markdown",
   "metadata": {},
   "source": [
    "#### 4. Print the solution."
   ]
  },
  {
   "cell_type": "code",
   "execution_count": 4,
   "metadata": {},
   "outputs": [
    {
     "name": "stdout",
     "output_type": "stream",
     "text": [
      "escaped in 3\n"
     ]
    }
   ],
   "source": [
    "print(\"escaped in\", days)"
   ]
  },
  {
   "cell_type": "markdown",
   "metadata": {},
   "source": [
    "## Bonus\n",
    "The distance traveled by the snail each day is now defined by a list.\n",
    "```\n",
    "advance_cm = [30, 21, 33, 77, 44, 45, 23, 45, 12, 34, 55]\n",
    "```\n",
    "On the first day, the snail rises 30cm but during the night it slides 20cm. On the second day, the snail rises 21cm but during the night it slides 20cm, and so on. \n",
    "\n",
    "#### 1. How many days does it take for the snail to escape the well?\n",
    "Follow the same guidelines as in the previous challenge.\n",
    "\n",
    "**Hint**: Remember that the snail gets out of the well when it surpasses the 125cm of height."
   ]
  },
  {
   "cell_type": "code",
   "execution_count": 7,
   "metadata": {},
   "outputs": [
    {
     "name": "stdout",
     "output_type": "stream",
     "text": [
      " position of the snail on day 1 is 10cm. \n",
      "\n",
      " position of the snail on day 2 is 11cm. \n",
      "\n",
      " position of the snail on day 3 is 24cm. \n",
      "\n",
      " position of the snail on day 4 is 81cm. \n",
      "\n",
      " position of the snail on day 5 is 105cm. \n",
      "\n",
      " position of the snail on day 6 is 130cm. \n",
      "\n",
      "it took 6 days for the snail to climb the well. \n",
      ".\n"
     ]
    }
   ],
   "source": [
    "well_height = 125 \n",
    "advance_cm = [30, 21, 33, 77, 44, 45, 23, 45, 12, 34, 55]\n",
    "nightly_distance = 20\n",
    "days_count = 0\n",
    "snail_position = 0 \n",
    "net_advance =[]\n",
    "total = 0\n",
    "\n",
    "while snail_position < well_height:\n",
    "    snail_position += (advance_cm[days_count] - nightly_distance)\n",
    "    days_count += 1\n",
    "    print(' position of the snail on day ' + str(days_count) + ' is ' + str(snail_position) + 'cm. \\n')\n",
    "print('it took ' + str(days_count) + ' days for the snail to climb the well. \\n.')"
   ]
  },
  {
   "cell_type": "markdown",
   "metadata": {},
   "source": [
    "#### 2. What is its maximum displacement in one day? And its minimum? Calculate the displacement using only the travel distance of the days used to get out of the well. \n",
    "**Hint**: Remember that displacement means the total distance risen taking into account that the snail slides at night.  "
   ]
  },
  {
   "cell_type": "code",
   "execution_count": 12,
   "metadata": {},
   "outputs": [
    {
     "name": "stdout",
     "output_type": "stream",
     "text": [
      "[10, 1, 13, 57, 24, 25, 3, 25, -8, 14, 35]\n",
      "The max displacement in one day is 57cm.\n",
      "The max displacement in one day is -8cm.\n"
     ]
    }
   ],
   "source": [
    "net_advance = [day_distance - nightly_distance for day_distance in advance_cm]\n",
    "print(net_advance)\n",
    "print('The max displacement in one day is ' + str(max(net_advance)) + 'cm.')\n",
    "print('The max displacement in one day is ' + str(min(net_advance)) + 'cm.')\n",
    "\n"
   ]
  },
  {
   "cell_type": "markdown",
   "metadata": {},
   "source": [
    "#### 3. What is its average progress? Take into account the snail slides at night."
   ]
  },
  {
   "cell_type": "code",
   "execution_count": 26,
   "metadata": {},
   "outputs": [
    {
     "name": "stdout",
     "output_type": "stream",
     "text": [
      "the average progress is 293.72727272727275cm\n"
     ]
    }
   ],
   "source": [
    "average_progress = sum(net_advance)/len(net_advance)\n",
    "print('the average progress is ' + str(average_progress) + 'cm')"
   ]
  },
  {
   "cell_type": "markdown",
   "metadata": {},
   "source": [
    "#### 4. What is the standard deviation of its displacement? Take into account the snail slides at night."
   ]
  },
  {
   "cell_type": "code",
   "execution_count": 29,
   "metadata": {},
   "outputs": [
    {
     "name": "stdout",
     "output_type": "stream",
     "text": [
      "[65, 292, 25, 1513, 34, 47, 227, 47, 680, 16, 285]\n",
      "the variance is  293.72727272727275\n",
      "the standard deviation is  17.1\n"
     ]
    }
   ],
   "source": [
    "net_advance = [10, 1, 13, 57, 24, 25, 3, 25, -8, 14, 35]\n",
    "net_advance = [int((advance - avergae_progress)**2) for advance in net_advance]\n",
    "print(net_advance)\n",
    "variance = sum(net_advance)/len(net_advance)\n",
    "print('the variance is ' , variance)\n",
    "standard_deviation = round(variance**(1/2), 1)\n",
    "print('the standard deviation is ', + standard_deviation)"
   ]
  },
  {
   "cell_type": "code",
   "execution_count": null,
   "metadata": {},
   "outputs": [],
   "source": []
  }
 ],
 "metadata": {
  "kernelspec": {
   "display_name": "Python 3",
   "language": "python",
   "name": "python3"
  },
  "language_info": {
   "codemirror_mode": {
    "name": "ipython",
    "version": 3
   },
   "file_extension": ".py",
   "mimetype": "text/x-python",
   "name": "python",
   "nbconvert_exporter": "python",
   "pygments_lexer": "ipython3",
   "version": "3.8.5"
  }
 },
 "nbformat": 4,
 "nbformat_minor": 2
}

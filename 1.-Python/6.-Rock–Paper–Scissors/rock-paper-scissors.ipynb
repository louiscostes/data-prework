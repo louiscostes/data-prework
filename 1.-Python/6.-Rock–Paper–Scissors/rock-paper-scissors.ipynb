{
 "cells": [
  {
   "cell_type": "markdown",
   "metadata": {},
   "source": [
    "<img src=\"https://bit.ly/2VnXWr2\" width=\"100\" align=\"left\">"
   ]
  },
  {
   "cell_type": "markdown",
   "metadata": {},
   "source": [
    "# Rock, Paper & Scissors\n",
    "\n",
    "Let's play the famous game against our computer. You can check the rules [here](https://en.wikipedia.org/wiki/Rock%E2%80%93paper%E2%80%93scissors). \n",
    "\n",
    "## Task\n",
    "Create a program that imitates the playability of the well known game of rock, paper, scissors. Follow the guidelines provided.\n",
    "\n",
    "## Tools\n",
    "1. Loop: **for/while**\n",
    "2. Functions: **input(), print()...**\n",
    "3. Conditional statements: **if, elif, else**\n",
    "4. Definition of functions. Modular programming\n",
    "5. Import modules\n",
    "\n",
    "**To solve this challenge, the use of functions is recommended.**\n",
    "\n",
    "#### 1. Import the choice function of the random module."
   ]
  },
  {
   "cell_type": "code",
   "execution_count": 1,
   "metadata": {},
   "outputs": [],
   "source": [
    "from random import choice"
   ]
  },
  {
   "cell_type": "markdown",
   "metadata": {},
   "source": [
    "#### 2. Create a list that includes the 3 possible gesture options of the game: 'rock', 'paper' or 'scissors'. Store the list in a variable called `gestures`."
   ]
  },
  {
   "cell_type": "raw",
   "metadata": {},
   "source": [
    "gestures = ['rock','paper', 'scissors']"
   ]
  },
  {
   "cell_type": "raw",
   "metadata": {},
   "source": [
    "#### 3. Create a variable called `n_rounds` to store the maximum number of rounds to play in a game. \n",
    "Remember that the number of rounds must be odd: 1, 3, 5, ..."
   ]
  },
  {
   "cell_type": "code",
   "execution_count": 2,
   "metadata": {},
   "outputs": [],
   "source": [
    "n_rounds = 3"
   ]
  },
  {
   "cell_type": "markdown",
   "metadata": {},
   "source": [
    "#### 4. Create a variable called `rounds_to_win` to store the number of rounds that a player must win to win the game.\n",
    "**Hint**: the value stored in `rounds_to_win` depends on the value of `n_rounds`. "
   ]
  },
  {
   "cell_type": "raw",
   "metadata": {},
   "source": [
    "rounds_to_win = (n_rounds/2) + 1\n",
    "print(rounds_to_win)"
   ]
  },
  {
   "cell_type": "markdown",
   "metadata": {},
   "source": [
    "#### 5. Create two variables to store the number of rounds that the computer and the player have won. Call these variables `cpu_score` and `player_score`."
   ]
  },
  {
   "cell_type": "code",
   "execution_count": 3,
   "metadata": {},
   "outputs": [],
   "source": [
    "cpu_score = 0\n",
    "player_score = 0"
   ]
  },
  {
   "cell_type": "markdown",
   "metadata": {},
   "source": [
    "#### 6. Define a function that randomly returns one of the 3 gesture options.\n",
    "You will use this function to simulate the gesture choice of the computer. "
   ]
  },
  {
   "cell_type": "code",
   "execution_count": 4,
   "metadata": {},
   "outputs": [],
   "source": [
    "def computer_plays():\n",
    "    return choice(gestures)"
   ]
  },
  {
   "cell_type": "markdown",
   "metadata": {},
   "source": [
    "#### 7. Define a function that asks the player which is the gesture he or she wants to show: 'rock', 'paper' or 'scissors'.\n",
    "The player should only be allowed to choose one of the 3 gesture options. If the player's choice is not rock, paper or scissors, keep asking until it is."
   ]
  },
  {
   "cell_type": "code",
   "execution_count": 22,
   "metadata": {},
   "outputs": [],
   "source": [
    "def players_plays():\n",
    "    player = input('which gesture do you want: rock, paper, scissors? /n')\n",
    "    \"\"\"while player not in gestures:\n",
    "        player= input('which gesture do you want: rock, paper, scissors? \\n')\"\"\"\n",
    "    return player"
   ]
  },
  {
   "cell_type": "markdown",
   "metadata": {},
   "source": [
    "#### 8. Define a function that checks who won a round. \n",
    "The function should return 0 if there is a tie, 1 if the computer wins and 2 if the player wins."
   ]
  },
  {
   "cell_type": "code",
   "execution_count": 29,
   "metadata": {},
   "outputs": [],
   "source": [
    "def whwho_won():\n",
    "    if computer_plays == player_plays():\n",
    "        return 0\n",
    "    if (computer_plays() == 'rock' and player_plays() == 'scissors') or (computer_plays() == 'paper' and player_plays() == 'rock') or (computer_plays() == 'scissors'and player_plays == 'paper'):\n",
    "        return 1\n",
    "    if (computer_plays() == 'rock' and player_plays() == 'paper') or (computer_plays() == 'paper' and player_plays() == 'scissors') or (computer_plays() == 'scissors'and player_plays == 'rock'):\n",
    "        return 2\n",
    "    \n",
    "    def who_won(computer_gesture, player_gesture):\n",
    "        if computer_gesture == player_gesture:\n",
    "            return 0\n",
    "        if (computer_gesture == 'rock' and player_gesture == 'scissors') or (computer_gesture == 'paper' and player_gesture == 'rock') or (computer_gesture =='scissors' and player_gesture == 'paper'):\n",
    "            return 1\n",
    "        if (computer_gesture == 'rock' and player_gesture == 'paper') or (computer_gesture == 'paper' and player_gesture == 'scissors') or (computer_gesture == 'scissors' and player_gesture == 'rock'):\n",
    "            return 2"
   ]
  },
  {
   "cell_type": "markdown",
   "metadata": {},
   "source": [
    "#### 9. Define a function that prints the choice of the computer, the choice of the player and a message that announces who won the current round. \n",
    "You should also use this function to update the variables that count the number of rounds that the computer and the player have won. The score of the winner increases by one point. If there is a tie, the score does not increase."
   ]
  },
  {
   "cell_type": "code",
   "execution_count": 30,
   "metadata": {},
   "outputs": [],
   "source": [
    "def one_round(cpu_score, player_score, number_round):\n",
    "    number_round += 1\n",
    "    print('round' + str(number_round) + '\\n')\n",
    "    computer_gesture = computer_plays()\n",
    "    print('computer_plays' + str(computer_gesture) + '\\n')\n",
    "    computer_gesture + player_plays()\n",
    "    result = who_won(compzter_gesture, player_gesture)\n",
    "    if result == 0:\n",
    "        print('the result of the round ' + str(number_round) + 'is tie. \\n')\n",
    "    if result == 1:\n",
    "        print('the computer won the round' + str(number_round)+ '\\n')\n",
    "        cpu_score += 1\n",
    "    if result == 2:\n",
    "        print('the player won the round' + str(number_round)+ '\\n' )\n",
    "        player_score += 1\n",
    "    return cpu_score, player_score, number_round"
   ]
  },
  {
   "cell_type": "markdown",
   "metadata": {},
   "source": [
    "#### 10. Now it's time to code the execution of the game using the functions and variables you defined above. \n",
    "\n",
    "First, create a loop structure that repeats while no player reaches the minimum score necessary to win and the number of rounds is less than the maximum number of rounds to play in a game.  \n",
    "\n",
    "Inside the loop, use the functions and variables above to create the execution of a round: ask for the player's choice, generate the random choice of the computer, show the round results, update the scores, etc. "
   ]
  },
  {
   "cell_type": "code",
   "execution_count": 32,
   "metadata": {},
   "outputs": [
    {
     "name": "stdout",
     "output_type": "stream",
     "text": [
      "round1\n",
      "\n",
      "computer_playsscissors\n",
      "\n"
     ]
    },
    {
     "ename": "NameError",
     "evalue": "name 'player_plays' is not defined",
     "output_type": "error",
     "traceback": [
      "\u001b[0;31m---------------------------------------------------------------------------\u001b[0m",
      "\u001b[0;31mNameError\u001b[0m                                 Traceback (most recent call last)",
      "\u001b[0;32m<ipython-input-32-027ac8b5114a>\u001b[0m in \u001b[0;36m<module>\u001b[0;34m\u001b[0m\n\u001b[1;32m      7\u001b[0m \u001b[0mrounds_to_win\u001b[0m \u001b[0;34m=\u001b[0m \u001b[0;34m(\u001b[0m\u001b[0mn_rounds\u001b[0m\u001b[0;34m/\u001b[0m\u001b[0;36m2\u001b[0m\u001b[0;34m)\u001b[0m \u001b[0;34m+\u001b[0m \u001b[0;36m1\u001b[0m\u001b[0;34m\u001b[0m\u001b[0;34m\u001b[0m\u001b[0m\n\u001b[1;32m      8\u001b[0m \u001b[0;32mwhile\u001b[0m \u001b[0;34m(\u001b[0m\u001b[0mnumber_rounds\u001b[0m \u001b[0;34m<\u001b[0m \u001b[0mn_rounds\u001b[0m\u001b[0;34m)\u001b[0m \u001b[0;32mand\u001b[0m \u001b[0;34m(\u001b[0m\u001b[0mcpu_score\u001b[0m \u001b[0;34m<\u001b[0m \u001b[0mrounds_to_win\u001b[0m\u001b[0;34m)\u001b[0m \u001b[0;32mor\u001b[0m \u001b[0;34m(\u001b[0m\u001b[0mplayer_score\u001b[0m \u001b[0;34m<\u001b[0m \u001b[0mrounds_to_win\u001b[0m\u001b[0;34m)\u001b[0m\u001b[0;34m:\u001b[0m\u001b[0;34m\u001b[0m\u001b[0;34m\u001b[0m\u001b[0m\n\u001b[0;32m----> 9\u001b[0;31m      \u001b[0mcpu_score\u001b[0m\u001b[0;34m,\u001b[0m \u001b[0mplayer_score\u001b[0m\u001b[0;34m,\u001b[0m \u001b[0mnumber_score\u001b[0m \u001b[0;34m=\u001b[0m \u001b[0mone_round\u001b[0m\u001b[0;34m(\u001b[0m\u001b[0mcpu_score\u001b[0m\u001b[0;34m,\u001b[0m \u001b[0mplayer_score\u001b[0m\u001b[0;34m,\u001b[0m \u001b[0mnumber_rounds\u001b[0m\u001b[0;34m)\u001b[0m\u001b[0;34m\u001b[0m\u001b[0;34m\u001b[0m\u001b[0m\n\u001b[0m\u001b[1;32m     10\u001b[0m      \u001b[0mprint\u001b[0m\u001b[0;34m(\u001b[0m\u001b[0;34m'computer score is '\u001b[0m \u001b[0;34m+\u001b[0m \u001b[0mstr\u001b[0m\u001b[0;34m(\u001b[0m\u001b[0mcpu_score\u001b[0m\u001b[0;34m)\u001b[0m\u001b[0;34m)\u001b[0m\u001b[0;34m\u001b[0m\u001b[0;34m\u001b[0m\u001b[0m\n\u001b[1;32m     11\u001b[0m      \u001b[0mprint\u001b[0m\u001b[0;34m(\u001b[0m\u001b[0;34m'player score is '\u001b[0m \u001b[0;34m+\u001b[0m \u001b[0mstr\u001b[0m\u001b[0;34m(\u001b[0m\u001b[0mplayer_Score\u001b[0m\u001b[0;34m)\u001b[0m \u001b[0;34m+\u001b[0m \u001b[0;34m'\\n'\u001b[0m\u001b[0;34m)\u001b[0m\u001b[0;34m\u001b[0m\u001b[0;34m\u001b[0m\u001b[0m\n",
      "\u001b[0;32m<ipython-input-30-37fe389297b4>\u001b[0m in \u001b[0;36mone_round\u001b[0;34m(cpu_score, player_score, number_round)\u001b[0m\n\u001b[1;32m      4\u001b[0m     \u001b[0mcomputer_gesture\u001b[0m \u001b[0;34m=\u001b[0m \u001b[0mcomputer_plays\u001b[0m\u001b[0;34m(\u001b[0m\u001b[0;34m)\u001b[0m\u001b[0;34m\u001b[0m\u001b[0;34m\u001b[0m\u001b[0m\n\u001b[1;32m      5\u001b[0m     \u001b[0mprint\u001b[0m\u001b[0;34m(\u001b[0m\u001b[0;34m'computer_plays'\u001b[0m \u001b[0;34m+\u001b[0m \u001b[0mstr\u001b[0m\u001b[0;34m(\u001b[0m\u001b[0mcomputer_gesture\u001b[0m\u001b[0;34m)\u001b[0m \u001b[0;34m+\u001b[0m \u001b[0;34m'\\n'\u001b[0m\u001b[0;34m)\u001b[0m\u001b[0;34m\u001b[0m\u001b[0;34m\u001b[0m\u001b[0m\n\u001b[0;32m----> 6\u001b[0;31m     \u001b[0mcomputer_gesture\u001b[0m \u001b[0;34m+\u001b[0m \u001b[0mplayer_plays\u001b[0m\u001b[0;34m(\u001b[0m\u001b[0;34m)\u001b[0m\u001b[0;34m\u001b[0m\u001b[0;34m\u001b[0m\u001b[0m\n\u001b[0m\u001b[1;32m      7\u001b[0m     \u001b[0mresult\u001b[0m \u001b[0;34m=\u001b[0m \u001b[0mwho_won\u001b[0m\u001b[0;34m(\u001b[0m\u001b[0mcompzter_gesture\u001b[0m\u001b[0;34m,\u001b[0m \u001b[0mplayer_gesture\u001b[0m\u001b[0;34m)\u001b[0m\u001b[0;34m\u001b[0m\u001b[0;34m\u001b[0m\u001b[0m\n\u001b[1;32m      8\u001b[0m     \u001b[0;32mif\u001b[0m \u001b[0mresult\u001b[0m \u001b[0;34m==\u001b[0m \u001b[0;36m0\u001b[0m\u001b[0;34m:\u001b[0m\u001b[0;34m\u001b[0m\u001b[0;34m\u001b[0m\u001b[0m\n",
      "\u001b[0;31mNameError\u001b[0m: name 'player_plays' is not defined"
     ]
    }
   ],
   "source": [
    "n_rounds = 3\n",
    "number_rounds = 0\n",
    "cpu_score = 0\n",
    "player_score = 0\n",
    "\n",
    "rounds_to_win = (n_rounds/2) + 1\n",
    "while (number_rounds < n_rounds) and (cpu_score < rounds_to_win) or (player_score < rounds_to_win):\n",
    "     cpu_score, player_score, number_score = one_round(cpu_score, player_score, number_rounds)\n",
    "     print('computer score is ' + str(cpu_score))\n",
    "     print('player score is ' + str(player_Score) + '\\n')"
   ]
  },
  {
   "cell_type": "markdown",
   "metadata": {},
   "source": [
    "#### 11. Print the winner of the game based on who won more rounds.\n",
    "Remember that the game might be tied. "
   ]
  },
  {
   "cell_type": "code",
   "execution_count": 33,
   "metadata": {},
   "outputs": [
    {
     "name": "stdout",
     "output_type": "stream",
     "text": [
      "computer wins\n",
      "player_wins\n",
      "the game is tied\n"
     ]
    }
   ],
   "source": [
    "if cpu_score >= player_score:\n",
    "    print('computer wins')\n",
    "if player_score >= cpu_score:\n",
    "    print('player_wins')\n",
    "if player_score == cpu_score:\n",
    "    print('the game is tied')\n"
   ]
  },
  {
   "cell_type": "markdown",
   "metadata": {},
   "source": [
    "# Bonus: Rock, Paper, Scissors, Lizard & Spock\n",
    "![](images/rpsls.jpg)\n",
    "\n",
    "In this challenge, you need to improve the previous game by adding two new options. To know more about the rules of the improved version of rock, paper, scissors, check this [link](http://www.samkass.com/theories/RPSSL.html). \n",
    "\n",
    "In addition, you will also need to improve how the game interacts with the player: the number of rounds to play, which must be an odd number, will be requested to the user until a valid number is entered. Define a new function to make that request.\n",
    "\n",
    "**Hint**: Try to reuse the code that you already coded in the previous challenge. If your code is efficient, this bonus will only consist of simple modifications to the original game."
   ]
  },
  {
   "cell_type": "code",
   "execution_count": null,
   "metadata": {},
   "outputs": [],
   "source": []
  }
 ],
 "metadata": {
  "kernelspec": {
   "display_name": "Python 3",
   "language": "python",
   "name": "python3"
  },
  "language_info": {
   "codemirror_mode": {
    "name": "ipython",
    "version": 3
   },
   "file_extension": ".py",
   "mimetype": "text/x-python",
   "name": "python",
   "nbconvert_exporter": "python",
   "pygments_lexer": "ipython3",
   "version": "3.8.5"
  }
 },
 "nbformat": 4,
 "nbformat_minor": 2
}

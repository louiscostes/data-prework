{
 "cells": [
  {
   "cell_type": "markdown",
   "metadata": {},
   "source": [
    "<img src=\"https://bit.ly/2VnXWr2\" width=\"100\" align=\"left\"/>"
   ]
  },
  {
   "cell_type": "markdown",
   "metadata": {},
   "source": [
    "# Robin Hood\n",
    "Robin Hood has entered a competition to win the archery contest in Sherwood. With his bow and arrows, he needs to shoot on a target and try to hit as close as possible to the center.\n",
    "\n",
    "![](images/arrows.jpg)\n",
    "\n",
    "## Context\n",
    "In this challenge, the landing position of arrows shot by archers in the competition will be represented using 2-dimensional coordinates. \n",
    "\n",
    "In the 2-dimensional space, a point can be defined by a pair of values that correspond to the horizontal coordinate (x) and the vertical coordinate (y). For example, in our case, an arrow that hits the center of the archery target will land in position (0, 0) on the coordinate axes. \n",
    "\n",
    "The space can be divided into 4 zones (quadrants): Q1, Q2, Q3, Q4. If a point is in Q1, both its x coordinate and y coordinate are positive. Any point with a null x or y coordinate is considered to not belong to any quadrant. \n",
    "\n",
    "If you want to know more about the cartesian coordinate system, you can check this [link](https://en.wikipedia.org/wiki/Cartesian_coordinate_system). \n",
    "\n",
    "## Tools\n",
    "You don't necessarily need to use all the tools. Maybe you opt to use some of them or completely different ones, they are given to help you shape the exercise. Programming exercises can be solved in many different ways.\n",
    "* Data structures: **lists, sets, tuples**\n",
    "* Conditional statements: **if-elif-else**\n",
    "* Loop: **while/for**\n",
    "* Minimum (optional sorting)\n",
    "\n",
    "## Tasks\n",
    "Robin Hood has hit the following points:"
   ]
  },
  {
   "cell_type": "code",
   "execution_count": 3,
   "metadata": {},
   "outputs": [],
   "source": [
    "points = [(4, 5), (-0, 2), (4, 7), (1, -3), (3, -2), (4, 5), (3, 2), (5, 7), (-5, 7), (2, 2), (-4, 5), (0, -2),\n",
    "          (-4, 7), (-1, 3), (-3, 2), (-4, -5), (-3, 2), (5, 7), (5, 7), (2, 2), (9, 9), (-8, -9)]"
   ]
  },
  {
   "cell_type": "markdown",
   "metadata": {},
   "source": [
    "#### 1. Robin Hood is famous for hitting an arrow with another arrow. Find the coordinates of the points where an arrow hits another arrow."
   ]
  },
  {
   "cell_type": "code",
   "execution_count": 7,
   "metadata": {
    "scrolled": true
   },
   "outputs": [
    {
     "name": "stdout",
     "output_type": "stream",
     "text": [
      "At (4, 5)at least an arrow that hits another one \n",
      "At (4, 5)at least an arrow that hits another one \n",
      "At (5, 7)at least an arrow that hits another one \n",
      "At (2, 2)at least an arrow that hits another one \n",
      "At (-3, 2)at least an arrow that hits another one \n",
      "At (-3, 2)at least an arrow that hits another one \n",
      "At (5, 7)at least an arrow that hits another one \n",
      "At (5, 7)at least an arrow that hits another one \n",
      "At (2, 2)at least an arrow that hits another one \n"
     ]
    }
   ],
   "source": [
    "points = [(4, 5), (-0, 2), (4, 7), (1, -3), (3, -2), (4, 5), (3, 2), (5, 7), (-5, 7), (2, 2), (-4, 5), (0, -2),\n",
    "          (-4, 7), (-1, 3), (-3, 2), (-4, -5), (-3, 2), (5, 7), (5, 7), (2, 2), (9, 9), (-8, -9)]\n",
    "\n",
    "counts = {}\n",
    "for couple in points:\n",
    "    if couple not in counts:\n",
    "        counts[couple] = 1\n",
    "    else:\n",
    "        counts[couple] += 1\n",
    "        \n",
    "for couple in points:\n",
    "    if counts[couple] >= 2:\n",
    "        print('At ' +str(couple) + 'at least an arrow that hits another one ')"
   ]
  },
  {
   "cell_type": "markdown",
   "metadata": {},
   "source": [
    "#### 2. Calculate how many arrows have fallen in each quadrant. \n",
    "**Note**: the arrows that fall in the axis (x=0 or y=0) don't belong to any quadrant."
   ]
  },
  {
   "cell_type": "code",
   "execution_count": 12,
   "metadata": {},
   "outputs": [
    {
     "name": "stdout",
     "output_type": "stream",
     "text": [
      "{'Q1': 10, 'Q2': 2, 'Q3': 2, 'Q4': 6, 'No Quadrant': 2}\n"
     ]
    }
   ],
   "source": [
    "#Q1 = x and y positive\n",
    "#Q2 = x positive and y negative \n",
    "#Q3 = x and y negative \n",
    "#Q4 x negative and y positive \n",
    "\n",
    "quadrant = {'Q1':0, 'Q2':0, 'Q3':0, 'Q4':0, 'No Quadrant':0}\n",
    "\n",
    "for (x,y) in points:\n",
    "    if x > 0 and y > 0:\n",
    "        quadrant['Q1'] += 1\n",
    "    elif x > 0 and y < 0:\n",
    "        quadrant['Q2'] += 1\n",
    "    elif x < 0 and y < 0:\n",
    "        quadrant['Q3'] += 1\n",
    "    elif x < 0 and y > 0:\n",
    "        quadrant['Q4'] += 1\n",
    "    else:\n",
    "        quadrant['No Quadrant'] += 1\n",
    "print(quadrant)\n"
   ]
  },
  {
   "cell_type": "markdown",
   "metadata": {},
   "source": [
    "#### 3. Find the point closest to the center. Calculate its distance to the center. \n",
    "Take into account that there might be more than one point at the minimum distance to the center.\n",
    "\n",
    "**Hint**: Use the Euclidean distance. You can find more information about it [here](https://en.wikipedia.org/wiki/Euclidean_distance).  \n",
    "**Hint**: Defining a function that calculates the distance to the center can help."
   ]
  },
  {
   "cell_type": "code",
   "execution_count": 14,
   "metadata": {},
   "outputs": [
    {
     "name": "stdout",
     "output_type": "stream",
     "text": [
      "list of points closest to center: \n",
      "[(0, 2), (0, -2)]\n"
     ]
    }
   ],
   "source": [
    "def distance_to_center(x,y):\n",
    "    distance = round(((0-x)**2)**(1/2),1)\n",
    "    return distance \n",
    "distances = [distance_to_center(x,y) for (x,y) in points]\n",
    "#print(distances)\n",
    "min(distances)\n",
    "\n",
    "min_distances_indices = []\n",
    "points_closest_to_center = []\n",
    "for i in range(len(distances)):\n",
    "    if distances [i] == min(distances):\n",
    "        min_distances_indices.append(i)\n",
    "        points_closest_to_center.append(points[i])\n",
    "print('list of points closest to center: ')\n",
    "print(points_closest_to_center)\n"
   ]
  },
  {
   "cell_type": "markdown",
   "metadata": {},
   "source": [
    "#### 4. If the archery target has a radius of 9, calculate the number of arrows that won't hit the target. \n",
    "**Hint**: Use the function created in step 3. "
   ]
  },
  {
   "cell_type": "code",
   "execution_count": 19,
   "metadata": {},
   "outputs": [
    {
     "name": "stdout",
     "output_type": "stream",
     "text": [
      "0 arrows not hit the target\n"
     ]
    }
   ],
   "source": [
    "count = 0 \n",
    "for distance in distances:\n",
    "    if distance > 9:\n",
    "        count += 1\n",
    "print(count, 'arrows not hit the target')"
   ]
  },
  {
   "cell_type": "code",
   "execution_count": null,
   "metadata": {},
   "outputs": [],
   "source": []
  }
 ],
 "metadata": {
  "kernelspec": {
   "display_name": "Python 3",
   "language": "python",
   "name": "python3"
  },
  "language_info": {
   "codemirror_mode": {
    "name": "ipython",
    "version": 3
   },
   "file_extension": ".py",
   "mimetype": "text/x-python",
   "name": "python",
   "nbconvert_exporter": "python",
   "pygments_lexer": "ipython3",
   "version": "3.8.5"
  }
 },
 "nbformat": 4,
 "nbformat_minor": 2
}
